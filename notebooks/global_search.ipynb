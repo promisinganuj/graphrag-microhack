{
 "cells": [
  {
   "cell_type": "code",
   "execution_count": 1,
   "metadata": {},
   "outputs": [],
   "source": [
    "# Copyright (c) 2024 Microsoft Corporation.\n",
    "# Licensed under the MIT License."
   ]
  },
  {
   "cell_type": "code",
   "execution_count": 2,
   "metadata": {},
   "outputs": [],
   "source": [
    "import os\n",
    "\n",
    "import pandas as pd\n",
    "import tiktoken\n",
    "\n",
    "from graphrag.query.indexer_adapters import read_indexer_entities, read_indexer_reports\n",
    "from graphrag.query.llm.oai.chat_openai import ChatOpenAI\n",
    "from graphrag.query.llm.oai.typing import OpenaiApiType\n",
    "from graphrag.query.structured_search.global_search.community_context import (\n",
    "    GlobalCommunityContext,\n",
    ")\n",
    "from graphrag.query.structured_search.global_search.search import GlobalSearch"
   ]
  },
  {
   "cell_type": "markdown",
   "metadata": {},
   "source": [
    "## Global Search example\n",
    "\n",
    "Global search method generates answers by searching over all AI-generated community reports in a map-reduce fashion. This is a resource-intensive method, but often gives good responses for questions that require an understanding of the dataset as a whole (e.g. What are the most significant values of the herbs mentioned in this notebook?)."
   ]
  },
  {
   "cell_type": "code",
   "execution_count": 3,
   "metadata": {},
   "outputs": [
    {
     "data": {
      "text/plain": [
       "True"
      ]
     },
     "execution_count": 3,
     "metadata": {},
     "output_type": "execute_result"
    }
   ],
   "source": [
    "from dotenv import load_dotenv, find_dotenv\n",
    "\n",
    "load_dotenv(find_dotenv())"
   ]
  },
  {
   "cell_type": "markdown",
   "metadata": {},
   "source": [
    "### LLM setup"
   ]
  },
  {
   "cell_type": "code",
   "execution_count": 4,
   "metadata": {},
   "outputs": [],
   "source": [
    "api_key = os.getenv(\"GRAPHRAG_API_KEY\")\n",
    "# llm_model = os.getenv(\"GRAPHRAG_LLM_MODEL\")\n",
    "llm_model = os.getenv(\"GRAPHRAG_LLM_DEPLOYMENT\")\n",
    "llm_deployment = os.getenv(\"GRAPHRAG_LLM_DEPLOYMENT\")\n",
    "# embedding_model = os.getenv(\"GRAPHRAG_EMBEDDING_MODEL\")\n",
    "embedding_model = os.getenv(\"GRAPHRAG_EMBEDDING_DEPLOYMENT\")\n",
    "embedding_deployment = os.getenv(\"GRAPHRAG_EMBEDDING_DEPLOYMENT\")\n",
    "api_base = os.getenv(\"GRAPHRAG_API_BASE\")\n",
    "api_version = os.getenv(\"GRAPHRAG_API_VERSION\")\n",
    "\n",
    "llm = ChatOpenAI(\n",
    "    api_key=api_key,\n",
    "    model=llm_model,\n",
    "    api_type=OpenaiApiType.AzureOpenAI,  # OpenaiApiType.OpenAI or OpenaiApiType.AzureOpenAI\n",
    "    max_retries=20,\n",
    "    api_base=api_base,\n",
    "    api_version=api_version\n",
    ")\n",
    "\n",
    "token_encoder = tiktoken.get_encoding(\"cl100k_base\")"
   ]
  },
  {
   "cell_type": "markdown",
   "metadata": {},
   "source": [
    "### Load community reports as context for global search\n",
    "\n",
    "- Load all community reports in the `create_final_community_reports` table from the ire-indexing engine, to be used as context data for global search.\n",
    "- Load entities from the `create_final_nodes` and `create_final_entities` tables from the ire-indexing engine, to be used for calculating community weights for context ranking. Note that this is optional (if no entities are provided, we will not calculate community weights and only use the `rank` attribute in the community reports table for context ranking)"
   ]
  },
  {
   "cell_type": "code",
   "execution_count": 5,
   "metadata": {},
   "outputs": [],
   "source": [
    "# parquet files generated from indexing pipeline\n",
    "INPUT_DIR = \"./../sample-output/output/20240812-215728/artifacts\"\n",
    "COMMUNITY_REPORT_TABLE = \"create_final_community_reports\"\n",
    "ENTITY_TABLE = \"create_final_nodes\"\n",
    "ENTITY_EMBEDDING_TABLE = \"create_final_entities\"\n",
    "\n",
    "# community level in the Leiden community hierarchy from which we will load the community reports\n",
    "# higher value means we use reports from more fine-grained communities (at the cost of higher computation cost)\n",
    "COMMUNITY_LEVEL = 2"
   ]
  },
  {
   "cell_type": "code",
   "execution_count": 6,
   "metadata": {},
   "outputs": [
    {
     "name": "stderr",
     "output_type": "stream",
     "text": [
      "/home/naga/dev/ext_gitrepos/graphrag-microhack/.venv/lib/python3.11/site-packages/graphrag/query/indexer_adapters.py:71: SettingWithCopyWarning: \n",
      "A value is trying to be set on a copy of a slice from a DataFrame.\n",
      "Try using .loc[row_indexer,col_indexer] = value instead\n",
      "\n",
      "See the caveats in the documentation: https://pandas.pydata.org/pandas-docs/stable/user_guide/indexing.html#returning-a-view-versus-a-copy\n",
      "  entity_df[\"community\"] = entity_df[\"community\"].fillna(-1)\n",
      "/home/naga/dev/ext_gitrepos/graphrag-microhack/.venv/lib/python3.11/site-packages/graphrag/query/indexer_adapters.py:72: SettingWithCopyWarning: \n",
      "A value is trying to be set on a copy of a slice from a DataFrame.\n",
      "Try using .loc[row_indexer,col_indexer] = value instead\n",
      "\n",
      "See the caveats in the documentation: https://pandas.pydata.org/pandas-docs/stable/user_guide/indexing.html#returning-a-view-versus-a-copy\n",
      "  entity_df[\"community\"] = entity_df[\"community\"].astype(int)\n"
     ]
    },
    {
     "name": "stdout",
     "output_type": "stream",
     "text": [
      "Total report count: 52\n",
      "Report count after filtering by community level 2: 37\n"
     ]
    },
    {
     "data": {
      "text/html": [
       "<div>\n",
       "<style scoped>\n",
       "    .dataframe tbody tr th:only-of-type {\n",
       "        vertical-align: middle;\n",
       "    }\n",
       "\n",
       "    .dataframe tbody tr th {\n",
       "        vertical-align: top;\n",
       "    }\n",
       "\n",
       "    .dataframe thead th {\n",
       "        text-align: right;\n",
       "    }\n",
       "</style>\n",
       "<table border=\"1\" class=\"dataframe\">\n",
       "  <thead>\n",
       "    <tr style=\"text-align: right;\">\n",
       "      <th></th>\n",
       "      <th>community</th>\n",
       "      <th>full_content</th>\n",
       "      <th>level</th>\n",
       "      <th>rank</th>\n",
       "      <th>title</th>\n",
       "      <th>rank_explanation</th>\n",
       "      <th>summary</th>\n",
       "      <th>findings</th>\n",
       "      <th>full_content_json</th>\n",
       "      <th>id</th>\n",
       "    </tr>\n",
       "  </thead>\n",
       "  <tbody>\n",
       "    <tr>\n",
       "      <th>0</th>\n",
       "      <td>49</td>\n",
       "      <td># Scrooge and the City\\n\\nThe community revolv...</td>\n",
       "      <td>3</td>\n",
       "      <td>6.5</td>\n",
       "      <td>Scrooge and the City</td>\n",
       "      <td>The impact severity rating is moderately high ...</td>\n",
       "      <td>The community revolves around the City, which ...</td>\n",
       "      <td>[{'explanation': 'The City is the central enti...</td>\n",
       "      <td>{\\n    \"title\": \"Scrooge and the City\",\\n    \"...</td>\n",
       "      <td>ca456f65-a353-4f64-8dac-1186aef8cb2e</td>\n",
       "    </tr>\n",
       "    <tr>\n",
       "      <th>1</th>\n",
       "      <td>50</td>\n",
       "      <td># Scrooge and His Transformative Journey\\n\\nTh...</td>\n",
       "      <td>3</td>\n",
       "      <td>8.5</td>\n",
       "      <td>Scrooge and His Transformative Journey</td>\n",
       "      <td>The impact severity rating is high due to the ...</td>\n",
       "      <td>The community centers around Scrooge, a charac...</td>\n",
       "      <td>[{'explanation': 'Scrooge is initially depicte...</td>\n",
       "      <td>{\\n    \"title\": \"Scrooge and His Transformativ...</td>\n",
       "      <td>c585e980-f081-4317-9b3b-616fbde49b73</td>\n",
       "    </tr>\n",
       "    <tr>\n",
       "      <th>2</th>\n",
       "      <td>51</td>\n",
       "      <td># Scrooge and the Ghostly Visitations\\n\\nThe c...</td>\n",
       "      <td>3</td>\n",
       "      <td>8.5</td>\n",
       "      <td>Scrooge and the Ghostly Visitations</td>\n",
       "      <td>The impact severity rating is high due to the ...</td>\n",
       "      <td>The community centers around Ebenezer Scrooge ...</td>\n",
       "      <td>[{'explanation': 'Ebenezer Scrooge undergoes a...</td>\n",
       "      <td>{\\n    \"title\": \"Scrooge and the Ghostly Visit...</td>\n",
       "      <td>7f2c56ec-6083-4b2d-b1c9-482fb052f951</td>\n",
       "    </tr>\n",
       "    <tr>\n",
       "      <th>3</th>\n",
       "      <td>37</td>\n",
       "      <td># Ghost of Christmas Present and Festive Decor...</td>\n",
       "      <td>2</td>\n",
       "      <td>7.5</td>\n",
       "      <td>Ghost of Christmas Present and Festive Decorat...</td>\n",
       "      <td>The impact severity rating is high due to the ...</td>\n",
       "      <td>The community centers around the Ghost of Chri...</td>\n",
       "      <td>[{'explanation': 'The Ghost of Christmas Prese...</td>\n",
       "      <td>{\\n    \"title\": \"Ghost of Christmas Present an...</td>\n",
       "      <td>f15da27e-cad7-4bc2-b37b-e0a5fbd5bcf3</td>\n",
       "    </tr>\n",
       "    <tr>\n",
       "      <th>4</th>\n",
       "      <td>38</td>\n",
       "      <td># Scrooge and the Spirit\\n\\nThe community revo...</td>\n",
       "      <td>2</td>\n",
       "      <td>8.5</td>\n",
       "      <td>Scrooge and the Spirit</td>\n",
       "      <td>The impact severity rating is high due to the ...</td>\n",
       "      <td>The community revolves around Scrooge and the ...</td>\n",
       "      <td>[{'explanation': 'The Spirit is a central figu...</td>\n",
       "      <td>{\\n    \"title\": \"Scrooge and the Spirit\",\\n   ...</td>\n",
       "      <td>9c3a5d61-6e73-4e0a-9df9-a383b376de3e</td>\n",
       "    </tr>\n",
       "  </tbody>\n",
       "</table>\n",
       "</div>"
      ],
      "text/plain": [
       "  community                                       full_content  level  rank  \\\n",
       "0        49  # Scrooge and the City\\n\\nThe community revolv...      3   6.5   \n",
       "1        50  # Scrooge and His Transformative Journey\\n\\nTh...      3   8.5   \n",
       "2        51  # Scrooge and the Ghostly Visitations\\n\\nThe c...      3   8.5   \n",
       "3        37  # Ghost of Christmas Present and Festive Decor...      2   7.5   \n",
       "4        38  # Scrooge and the Spirit\\n\\nThe community revo...      2   8.5   \n",
       "\n",
       "                                               title  \\\n",
       "0                               Scrooge and the City   \n",
       "1             Scrooge and His Transformative Journey   \n",
       "2                Scrooge and the Ghostly Visitations   \n",
       "3  Ghost of Christmas Present and Festive Decorat...   \n",
       "4                             Scrooge and the Spirit   \n",
       "\n",
       "                                    rank_explanation  \\\n",
       "0  The impact severity rating is moderately high ...   \n",
       "1  The impact severity rating is high due to the ...   \n",
       "2  The impact severity rating is high due to the ...   \n",
       "3  The impact severity rating is high due to the ...   \n",
       "4  The impact severity rating is high due to the ...   \n",
       "\n",
       "                                             summary  \\\n",
       "0  The community revolves around the City, which ...   \n",
       "1  The community centers around Scrooge, a charac...   \n",
       "2  The community centers around Ebenezer Scrooge ...   \n",
       "3  The community centers around the Ghost of Chri...   \n",
       "4  The community revolves around Scrooge and the ...   \n",
       "\n",
       "                                            findings  \\\n",
       "0  [{'explanation': 'The City is the central enti...   \n",
       "1  [{'explanation': 'Scrooge is initially depicte...   \n",
       "2  [{'explanation': 'Ebenezer Scrooge undergoes a...   \n",
       "3  [{'explanation': 'The Ghost of Christmas Prese...   \n",
       "4  [{'explanation': 'The Spirit is a central figu...   \n",
       "\n",
       "                                   full_content_json  \\\n",
       "0  {\\n    \"title\": \"Scrooge and the City\",\\n    \"...   \n",
       "1  {\\n    \"title\": \"Scrooge and His Transformativ...   \n",
       "2  {\\n    \"title\": \"Scrooge and the Ghostly Visit...   \n",
       "3  {\\n    \"title\": \"Ghost of Christmas Present an...   \n",
       "4  {\\n    \"title\": \"Scrooge and the Spirit\",\\n   ...   \n",
       "\n",
       "                                     id  \n",
       "0  ca456f65-a353-4f64-8dac-1186aef8cb2e  \n",
       "1  c585e980-f081-4317-9b3b-616fbde49b73  \n",
       "2  7f2c56ec-6083-4b2d-b1c9-482fb052f951  \n",
       "3  f15da27e-cad7-4bc2-b37b-e0a5fbd5bcf3  \n",
       "4  9c3a5d61-6e73-4e0a-9df9-a383b376de3e  "
      ]
     },
     "execution_count": 6,
     "metadata": {},
     "output_type": "execute_result"
    }
   ],
   "source": [
    "entity_df = pd.read_parquet(f\"{INPUT_DIR}/{ENTITY_TABLE}.parquet\")\n",
    "report_df = pd.read_parquet(f\"{INPUT_DIR}/{COMMUNITY_REPORT_TABLE}.parquet\")\n",
    "entity_embedding_df = pd.read_parquet(f\"{INPUT_DIR}/{ENTITY_EMBEDDING_TABLE}.parquet\")\n",
    "\n",
    "reports = read_indexer_reports(report_df, entity_df, COMMUNITY_LEVEL)\n",
    "entities = read_indexer_entities(entity_df, entity_embedding_df, COMMUNITY_LEVEL)\n",
    "print(f\"Total report count: {len(report_df)}\")\n",
    "print(\n",
    "    f\"Report count after filtering by community level {COMMUNITY_LEVEL}: {len(reports)}\"\n",
    ")\n",
    "report_df.head()"
   ]
  },
  {
   "cell_type": "markdown",
   "metadata": {},
   "source": [
    "#### Build global context based on community reports"
   ]
  },
  {
   "cell_type": "code",
   "execution_count": 7,
   "metadata": {},
   "outputs": [],
   "source": [
    "context_builder = GlobalCommunityContext(\n",
    "    community_reports=reports,\n",
    "    entities=entities,  # default to None if you don't want to use community weights for ranking\n",
    "    token_encoder=token_encoder,\n",
    ")"
   ]
  },
  {
   "cell_type": "markdown",
   "metadata": {},
   "source": [
    "#### Perform global search"
   ]
  },
  {
   "cell_type": "code",
   "execution_count": 8,
   "metadata": {},
   "outputs": [],
   "source": [
    "context_builder_params = {\n",
    "    \"use_community_summary\": False,  # False means using full community reports. True means using community short summaries.\n",
    "    \"shuffle_data\": True,\n",
    "    \"include_community_rank\": True,\n",
    "    \"min_community_rank\": 0,\n",
    "    \"community_rank_name\": \"rank\",\n",
    "    \"include_community_weight\": True,\n",
    "    \"community_weight_name\": \"occurrence weight\",\n",
    "    \"normalize_community_weight\": True,\n",
    "    \"max_tokens\": 12_000,  # change this based on the token limit you have on your model (if you are using a model with 8k limit, a good setting could be 5000)\n",
    "    \"context_name\": \"Reports\",\n",
    "}\n",
    "\n",
    "map_llm_params = {\n",
    "    \"max_tokens\": 1000,\n",
    "    \"temperature\": 0.0,\n",
    "    \"response_format\": {\"type\": \"json_object\"},\n",
    "}\n",
    "\n",
    "reduce_llm_params = {\n",
    "    \"max_tokens\": 2000,  # change this based on the token limit you have on your model (if you are using a model with 8k limit, a good setting could be 1000-1500)\n",
    "    \"temperature\": 0.0,\n",
    "}"
   ]
  },
  {
   "cell_type": "code",
   "execution_count": 9,
   "metadata": {},
   "outputs": [],
   "source": [
    "search_engine = GlobalSearch(\n",
    "    llm=llm,\n",
    "    context_builder=context_builder,\n",
    "    token_encoder=token_encoder,\n",
    "    max_data_tokens=12_000,  # change this based on the token limit you have on your model (if you are using a model with 8k limit, a good setting could be 5000)\n",
    "    map_llm_params=map_llm_params,\n",
    "    reduce_llm_params=reduce_llm_params,\n",
    "    allow_general_knowledge=False,  # set this to True will add instruction to encourage the LLM to incorporate general knowledge in the response, which may increase hallucinations, but could be useful in some use cases.\n",
    "    json_mode=True,  # set this to False if your LLM model does not support JSON mode.\n",
    "    context_builder_params=context_builder_params,\n",
    "    concurrent_coroutines=32,\n",
    "    response_type=\"multiple paragraphs\",  # free form text describing the response type and format, can be anything, e.g. prioritized list, single paragraph, multiple paragraphs, multiple-page report\n",
    ")"
   ]
  },
  {
   "cell_type": "markdown",
   "metadata": {},
   "source": [
    "## Run global search on sample queries"
   ]
  },
  {
   "cell_type": "code",
   "execution_count": 10,
   "metadata": {},
   "outputs": [
    {
     "name": "stdout",
     "output_type": "stream",
     "text": [
      "### Overview of the Data\n",
      "\n",
      "The dataset provides a comprehensive analysis of Charles Dickens' \"A Christmas Carol,\" focusing on various aspects such as characters, themes, settings, and significant events. Below is a detailed summary of the key elements covered in the data:\n",
      "\n",
      "#### Key Characters and Relationships\n",
      "\n",
      "The data includes detailed descriptions of various communities and characters, emphasizing their relationships, interactions, and significant events. Key characters such as Ebenezer Scrooge, Tiny Tim, the Cratchit family, and supernatural entities like the Ghosts of Christmas Past, Present, and Yet to Come are central to the narrative [Data: Reports (47, 25, 46, 39, 19, 44, 33, 45, 35, 29, 4, 30, 42, 7, 11, 48, 17, 26)].\n",
      "\n",
      "#### Supernatural Elements\n",
      "\n",
      "A significant portion of the data is dedicated to the role of supernatural entities, particularly the Ghosts of Christmas. The report titled \"Scrooge and the Spirit\" discusses the transformative journey guided by these spirits, covering their symbolic representations, interactions with Scrooge, and their influence on Christmas celebrations [Data: Reports (38)].\n",
      "\n",
      "#### Themes and Transformations\n",
      "\n",
      "The dataset highlights major themes such as transformation, generosity, family bonds, and the impact of Christmas on the characters' lives. Scrooge's journey from cynicism to kindness is a focal point, illustrating the broader message of redemption and the spirit of Christmas [Data: Reports (47, 25, 46, 39, 19, 44, 33, 45, 35, 29, 4, 30, 42, 7, 11, 48, 17, 26)].\n",
      "\n",
      "#### Significant Events and Settings\n",
      "\n",
      "The data provides insights into specific events and settings, such as Scrooge's transformation, the Cratchit family's Christmas celebration, Fred's Christmas dinner party, and the haunting encounters with Marley's Ghost and the Three Spirits. Important locations include Scrooge's counting-house, the Cratchit household, Old Joe's shop, and the lighthouse and ship where Christmas is celebrated at sea [Data: Reports (47, 25, 46, 39, 19, 44, 33, 45, 35, 29, 4, 30, 42, 7, 11, 48, 17, 26)].\n",
      "\n",
      "#### Character Interactions and Dynamics\n",
      "\n",
      "The data contains specific claims and relationships that illustrate the dynamics between characters. For example, Bob Cratchit's affection for Tiny Tim, Fred's positive outlook on Christmas, and the influence of the Ghosts on Scrooge's transformation are well-documented [Data: Reports (47, 25, 46, 39, 19, 44, 33, 45, 35, 29, 4, 30, 42, 7, 11, 48, 17, 26)].\n",
      "\n",
      "#### Additional Details\n",
      "\n",
      "Additional details include festive activities and decorations associated with the Ghost of Christmas Present, Fezziwig's Christmas Eve celebration, and the miners' Christmas celebrations on the bleak and desert moor [Data: Reports (37, 10, 31)].\n",
      "\n",
      "### Conclusion\n",
      "\n",
      "The dataset offers a rich and detailed exploration of \"A Christmas Carol,\" covering a wide range of elements from character development and thematic depth to specific events and settings. This comprehensive analysis provides valuable insights into the timeless story and its enduring impact on Christmas literature and culture.\n"
     ]
    }
   ],
   "source": [
    "result = await search_engine.asearch(\"what is the data you have\")\n",
    "print(result.response)"
   ]
  },
  {
   "cell_type": "code",
   "execution_count": 11,
   "metadata": {},
   "outputs": [
    {
     "name": "stdout",
     "output_type": "stream",
     "text": [
      "### Main Character of the Story\n",
      "\n",
      "The main character of \"A Christmas Carol\" is Ebenezer Scrooge. He is initially depicted as a miserly, solitary, and uncharitable old man, particularly during the Christmas season [Data: Reports (46, 45, 39, 19, 33, 41, 38)].\n",
      "\n",
      "### Character Transformation\n",
      "\n",
      "Scrooge undergoes a profound transformation throughout the story. This change is driven by supernatural encounters with the Ghosts of Christmas Past, Present, and Yet to Come, as well as his former business partner, Jacob Marley [Data: Reports (41)]. These encounters lead him to reflect on his life and ultimately transform from a miserly, solitary individual to a generous and kind-hearted person [Data: Reports (41)].\n",
      "\n",
      "### Impact on Other Characters\n",
      "\n",
      "Scrooge's transformation significantly impacts other characters in the story, such as Bob Cratchit and Tiny Tim, highlighting his central role in the narrative [Data: Reports (41)].\n",
      "\n",
      "In summary, Ebenezer Scrooge is the main character whose journey from a cold-hearted miser to a benevolent figure forms the crux of \"A Christmas Carol\" [Data: Reports (46, 45, 39, 19, 33, 41, 38)].\n"
     ]
    }
   ],
   "source": [
    "result = await search_engine.asearch(\"who is the main character of this story?\")\n",
    "print(result.response)"
   ]
  },
  {
   "cell_type": "code",
   "execution_count": 12,
   "metadata": {},
   "outputs": [
    {
     "name": "stdout",
     "output_type": "stream",
     "text": [
      "### Connections of the Main Character to Other Characters\n",
      "\n",
      "Ebenezer Scrooge, the central figure in the story, is intricately connected to various characters, each playing a significant role in his transformation from a miserly, solitary old man to a generous and kind-hearted individual.\n",
      "\n",
      "#### Jacob Marley\n",
      "Scrooge's deceased business partner, Jacob Marley, continues to influence Scrooge's life as a ghost. Marley's ghost warns Scrooge about his impending fate and the forthcoming visits of The Three Spirits, setting the stage for Scrooge's transformative journey [Data: Reports (19, 41, 45)].\n",
      "\n",
      "#### The Three Spirits\n",
      "The Ghosts of Christmas Past, Present, and Yet to Come are pivotal in driving Scrooge's transformation. Each spirit guides him through reflections on his past, present, and potential future, showing him various scenes that help him reflect on his life choices and understand the importance of compassion [Data: Reports (38, 39, 41, 47)].\n",
      "\n",
      "#### Bob Cratchit and Family\n",
      "Scrooge's relationship with his clerk, Bob Cratchit, evolves significantly. Initially, Scrooge exploits Cratchit, but after his transformation, he decides to raise Cratchit's salary and assist his struggling family. This change also impacts Tiny Tim, Cratchit's youngest son, whose health and well-being are significantly improved by Scrooge's newfound generosity [Data: Reports (25, 41, 43, 47)].\n",
      "\n",
      "#### Fred\n",
      "Scrooge's nephew, Fred, consistently tries to engage with Scrooge and spread Christmas cheer, despite Scrooge's initial unpleasant nature. Fred's positive attitude towards the holiday contrasts sharply with Scrooge's cynicism, highlighting the social implications of Scrooge's transformation [Data: Reports (41, 47)].\n",
      "\n",
      "#### Other Characters\n",
      "Scrooge's interactions with other characters, such as Mrs. Cratchit and various businessmen, further highlight the social implications of his transformation. His efforts to mend relationships and gain respect are evident in his changed behavior towards these individuals. Additionally, Scrooge's relationship with the Gentleman who asks for donations for the poor marks a pivotal change in his character when he surprises the Gentleman with his generosity [Data: Reports (21, 41)].\n",
      "\n",
      "#### Belle\n",
      "Belle, a character from Scrooge's past, was once in a relationship with him. Their relationship ended due to Scrooge's relentless pursuit of wealth, adding depth to his character and highlighting the consequences of his actions [Data: Reports (35)].\n",
      "\n",
      "### Conclusion\n",
      "Scrooge's connections to these characters are central to the narrative, each relationship contributing to his ultimate redemption. Through the guidance of the spirits and the influence of those around him, Scrooge learns the value of compassion, generosity, and community, transforming into a better person by the end of the story.\n"
     ]
    }
   ],
   "source": [
    "result = await search_engine.asearch(\"How is the main character connected to other characters in the story?\")\n",
    "print(result.response)"
   ]
  },
  {
   "cell_type": "code",
   "execution_count": 13,
   "metadata": {},
   "outputs": [
    {
     "name": "stdout",
     "output_type": "stream",
     "text": [
      "### Analysis of Wealth Redistribution\n",
      "\n",
      "In the dataset, there are clear instances where individuals became richer at the expense of others becoming poorer. This dynamic is particularly evident in the interactions surrounding the deceased man's belongings and the character of Scrooge.\n",
      "\n",
      "#### Theft and Appraisal of the Deceased Man's Belongings\n",
      "\n",
      "Mrs. Dilber, a laundress, along with the Charwoman and the Undertaker's Man, stole various items from a deceased man's room. These items included sheets, towels, wearing apparel, silver teaspoons, sugar-tongs, and boots. They brought these stolen goods to Joe, a marine-store dealer and receiver of stolen goods, for appraisal and sale. As a result, Joe and the individuals who stole the items became richer through these transactions, while the deceased man was effectively made poorer by the loss of his possessions [Data: Reports (29, 30)].\n",
      "\n",
      "#### Scrooge's Exploitation of Bob Cratchit\n",
      "\n",
      "Initially, Scrooge is depicted as a miserly and solitary old man who maintains his wealth by exploiting his clerk, Bob Cratchit. Scrooge keeps the coal-box in his own room and threatens to part ways with Cratchit if he tries to replenish his small fire, thereby keeping Cratchit in poor working conditions. This exploitation highlights how Scrooge's wealth is, in part, maintained by keeping his employees in a state of financial hardship [Data: Reports (41)].\n",
      "\n",
      "#### Transformation and Generosity\n",
      "\n",
      "However, Scrooge undergoes a significant transformation, leading him to raise Bob Cratchit's salary and assist his struggling family. This shift from exploitation to generosity indicates a change in how wealth is distributed, with Scrooge's newfound generosity positively impacting the Cratchit family's well-being [Data: Reports (41, 43)].\n",
      "\n",
      "### Conclusion\n",
      "\n",
      "The dataset clearly illustrates scenarios where individuals became richer by making others poorer. The theft and sale of the deceased man's belongings by Mrs. Dilber and others, as well as Scrooge's initial exploitation of Bob Cratchit, are prime examples of this dynamic. However, Scrooge's eventual transformation and acts of generosity suggest that wealth can also be redistributed in a way that benefits others, highlighting the potential for positive change [Data: Reports (29, 30, 41, 43)].\n"
     ]
    }
   ],
   "source": [
    "result = await search_engine.asearch(\"Did someone become richer by someone becoming poorer?\")\n",
    "print(result.response)"
   ]
  },
  {
   "cell_type": "code",
   "execution_count": null,
   "metadata": {},
   "outputs": [],
   "source": []
  },
  {
   "cell_type": "code",
   "execution_count": null,
   "metadata": {},
   "outputs": [],
   "source": []
  }
 ],
 "metadata": {
  "kernelspec": {
   "display_name": "Python 3",
   "language": "python",
   "name": "python3"
  },
  "language_info": {
   "codemirror_mode": {
    "name": "ipython",
    "version": 3
   },
   "file_extension": ".py",
   "mimetype": "text/x-python",
   "name": "python",
   "nbconvert_exporter": "python",
   "pygments_lexer": "ipython3",
   "version": "3.11.9"
  }
 },
 "nbformat": 4,
 "nbformat_minor": 2
}
