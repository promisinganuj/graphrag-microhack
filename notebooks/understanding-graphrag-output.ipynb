{
 "cells": [
  {
   "cell_type": "code",
   "execution_count": null,
   "metadata": {},
   "outputs": [],
   "source": [
    "from pyspark.sql import SparkSession\n",
    "\n",
    "spark = SparkSession.builder.appName(\"SparkSQL\").getOrCreate()"
   ]
  },
  {
   "cell_type": "code",
   "execution_count": null,
   "metadata": {},
   "outputs": [],
   "source": [
    "output_subfolder = \"20240812-215728\"\n",
    "\n",
    "analysis_path = f\"./../analysis/{output_subfolder}\"\n",
    "output_path = f\"./../sample-output/output/{output_subfolder}/artifacts\"\n",
    "base_documents_path = f\"{output_path}/create_base_documents.parquet\"\n",
    "base_extracted_entities_path = f\"{output_path}/create_base_extracted_entities.parquet\"\n",
    "base_text_units_path = f\"{output_path}/create_base_text_units.parquet\"\n",
    "base_entity_graph_path = f\"{output_path}/create_base_entity_graph.parquet\""
   ]
  },
  {
   "cell_type": "code",
   "execution_count": null,
   "metadata": {},
   "outputs": [],
   "source": [
    "df_base_documents = spark.read.parquet(base_documents_path)\n",
    "df_base_documents.show()"
   ]
  },
  {
   "cell_type": "code",
   "execution_count": null,
   "metadata": {},
   "outputs": [],
   "source": [
    "df_base_entity_graph = spark.read.parquet(base_entity_graph_path)\n",
    "df_base_entity_graph.printSchema()\n",
    "df_base_entity_graph.count()"
   ]
  },
  {
   "cell_type": "code",
   "execution_count": null,
   "metadata": {},
   "outputs": [],
   "source": [
    "clustered_graphs = df_base_entity_graph.select(\"clustered_graph\").collect()\n",
    "\n",
    "try:\n",
    "    os.makedirs(analysis_path, exist_ok=True)\n",
    "    print(f\"Directory '{analysis_path}' created successfully or already exists.\")\n",
    "except Exception as e:\n",
    "    print(f\"Error creating directory '{analysis_path}': {e}\")\n",
    "\n",
    "for i, row in enumerate(clustered_graphs):\n",
    "    clustered_graph = row[\"clustered_graph\"]\n",
    "    with open(f\"{analysis_path}/clustered_graph_{i}.xml\", \"w\") as f:\n",
    "        f.write(clustered_graph)"
   ]
  },
  {
   "cell_type": "code",
   "execution_count": null,
   "metadata": {},
   "outputs": [],
   "source": [
    "df_base_extracted_entities = spark.read.parquet(base_extracted_entities_path)\n",
    "df_base_extracted_entities.printSchema()\n",
    "df_base_extracted_entities.count()"
   ]
  },
  {
   "cell_type": "code",
   "execution_count": null,
   "metadata": {},
   "outputs": [],
   "source": [
    "df_base_extracted_entities.show()"
   ]
  },
  {
   "cell_type": "code",
   "execution_count": null,
   "metadata": {},
   "outputs": [],
   "source": [
    "entity_graphs = df_base_extracted_entities.select(\"entity_graph\").collect()\n",
    "\n",
    "try:\n",
    "    os.makedirs(analysis_path, exist_ok=True)\n",
    "    print(f\"Directory '{analysis_path}' created successfully or already exists.\")\n",
    "except Exception as e:\n",
    "    print(f\"Error creating directory '{analysis_path}': {e}\")\n",
    "\n",
    "for i, row in enumerate(entity_graphs):\n",
    "    entity_graph = row[\"entity_graph\"]\n",
    "    with open(f\"{analysis_path}/entity_graphs_{i}.xml\", \"w\") as f:\n",
    "        f.write(entity_graph)"
   ]
  },
  {
   "cell_type": "code",
   "execution_count": null,
   "metadata": {},
   "outputs": [],
   "source": [
    "df_base_text_units = spark.read.parquet(base_text_units_path)\n",
    "df_base_text_units.printSchema()\n",
    "df_base_text_units.count()"
   ]
  },
  {
   "cell_type": "code",
   "execution_count": null,
   "metadata": {},
   "outputs": [],
   "source": [
    "df_base_text_units.show(10, truncate=False)"
   ]
  }
 ],
 "metadata": {
  "kernelspec": {
   "display_name": "graphrag",
   "language": "python",
   "name": "python3"
  },
  "language_info": {
   "codemirror_mode": {
    "name": "ipython",
    "version": 3
   },
   "file_extension": ".py",
   "mimetype": "text/x-python",
   "name": "python",
   "nbconvert_exporter": "python",
   "pygments_lexer": "ipython3",
   "version": "3.10.14"
  }
 },
 "nbformat": 4,
 "nbformat_minor": 2
}
