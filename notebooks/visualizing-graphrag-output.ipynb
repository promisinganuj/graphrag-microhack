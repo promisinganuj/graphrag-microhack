{
 "cells": [
  {
   "cell_type": "markdown",
   "metadata": {},
   "source": [
    "# Visualizing the knowledge graph with `yfiles-jupyter-graphs`\n",
    "\n",
    "This notebook shows how to use `yfiles-jupyter-graphs` to add interactive graph visualizations of the parquet files and how to visualize the result context of `graphrag` queries (see at the end of this notebook)."
   ]
  },
  {
   "cell_type": "code",
   "execution_count": 30,
   "metadata": {},
   "outputs": [],
   "source": [
    "# Copyright (c) 2024 Microsoft Corporation.\n",
    "# Licensed under the MIT License."
   ]
  },
  {
   "cell_type": "code",
   "execution_count": 31,
   "metadata": {},
   "outputs": [],
   "source": [
    "import os\n",
    "\n",
    "import pandas as pd\n",
    "import tiktoken\n",
    "\n",
    "from graphrag.query.context_builder.entity_extraction import EntityVectorStoreKey\n",
    "from graphrag.query.indexer_adapters import (\n",
    "    read_indexer_covariates,\n",
    "    read_indexer_entities,\n",
    "    read_indexer_relationships,\n",
    "    read_indexer_reports,\n",
    "    read_indexer_text_units,\n",
    ")\n",
    "from graphrag.query.input.loaders.dfs import (\n",
    "    store_entity_semantic_embeddings,\n",
    ")\n",
    "from graphrag.query.llm.oai.chat_openai import ChatOpenAI\n",
    "from graphrag.query.llm.oai.embedding import OpenAIEmbedding\n",
    "from graphrag.query.llm.oai.typing import OpenaiApiType\n",
    "from graphrag.query.structured_search.local_search.mixed_context import (\n",
    "    LocalSearchMixedContext,\n",
    ")\n",
    "from graphrag.query.structured_search.local_search.search import LocalSearch\n",
    "from graphrag.vector_stores.lancedb import LanceDBVectorStore"
   ]
  },
  {
   "cell_type": "markdown",
   "metadata": {},
   "source": [
    "## Local Search Example\n",
    "\n",
    "Local search method generates answers by combining relevant data from the AI-extracted knowledge-graph with text chunks of the raw documents. This method is suitable for questions that require an understanding of specific entities mentioned in the documents (e.g. What are the healing properties of chamomile?)."
   ]
  },
  {
   "cell_type": "markdown",
   "metadata": {},
   "source": [
    "### Load text units and graph data tables as context for local search\n",
    "\n",
    "- In this test we first load indexing outputs from parquet files to dataframes, then convert these dataframes into collections of data objects aligning with the knowledge model."
   ]
  },
  {
   "cell_type": "markdown",
   "metadata": {},
   "source": [
    "### Load tables to dataframes"
   ]
  },
  {
   "cell_type": "code",
   "execution_count": 32,
   "metadata": {},
   "outputs": [],
   "source": [
    "INPUT_DIR = \"./../sample-output/output/20240812-215728/artifacts\"\n",
    "LANCEDB_URI = f\"{INPUT_DIR}/lancedb\"\n",
    "\n",
    "COMMUNITY_REPORT_TABLE = \"create_final_community_reports\"\n",
    "ENTITY_TABLE = \"create_final_nodes\"\n",
    "ENTITY_EMBEDDING_TABLE = \"create_final_entities\"\n",
    "RELATIONSHIP_TABLE = \"create_final_relationships\"\n",
    "COVARIATE_TABLE = \"create_final_covariates\"\n",
    "TEXT_UNIT_TABLE = \"create_final_text_units\"\n",
    "COMMUNITY_LEVEL = 2"
   ]
  },
  {
   "cell_type": "markdown",
   "metadata": {},
   "source": [
    "#### Read entities"
   ]
  },
  {
   "cell_type": "code",
   "execution_count": 33,
   "metadata": {},
   "outputs": [],
   "source": [
    "# read nodes table to get community and degree data\n",
    "entity_df = pd.read_parquet(f\"{INPUT_DIR}/{ENTITY_TABLE}.parquet\")\n",
    "entity_embedding_df = pd.read_parquet(f\"{INPUT_DIR}/{ENTITY_EMBEDDING_TABLE}.parquet\")"
   ]
  },
  {
   "cell_type": "markdown",
   "metadata": {},
   "source": [
    "#### Read relationships"
   ]
  },
  {
   "cell_type": "code",
   "execution_count": 34,
   "metadata": {},
   "outputs": [],
   "source": [
    "relationship_df = pd.read_parquet(f\"{INPUT_DIR}/{RELATIONSHIP_TABLE}.parquet\")\n",
    "relationships = read_indexer_relationships(relationship_df)"
   ]
  },
  {
   "cell_type": "markdown",
   "metadata": {},
   "source": [
    "# Visualizing nodes and relationships with `yfiles-jupyter-graphs`\n",
    "\n",
    "`yfiles-jupyter-graphs` is a graph visualization extension that provides interactive and customizable visualizations for structured node and relationship data.\n",
    "\n",
    "In this case, we use it to provide an interactive visualization for the knowledge graph of the Local Search sample by passing node and relationship lists converted from the given parquet files. The requirements for the input data is an `id` attribute for the nodes and `start`/`end` properties for the relationships that correspond to the node ids. Additional attributes can be added in the `properties` of each node/relationship dict:"
   ]
  },
  {
   "cell_type": "code",
   "execution_count": 35,
   "metadata": {},
   "outputs": [],
   "source": [
    "from yfiles_jupyter_graphs import GraphWidget\n",
    "\n",
    "\n",
    "# converts the entities dataframe to a list of dicts for yfiles-jupyter-graphs\n",
    "def convert_entities_to_dicts(df):\n",
    "    \"\"\"Convert the entities dataframe to a list of dicts for yfiles-jupyter-graphs.\"\"\"\n",
    "\n",
    "    if 'graph_embedding' in entity_df.columns:\n",
    "        df = df.drop('graph_embedding', axis=1)\n",
    "\n",
    "    nodes_dict = {}\n",
    "    for _, row in df.iterrows():\n",
    "        # Create a dictionary for each row and collect unique nodes\n",
    "        node_id = row[\"title\"]\n",
    "        if node_id not in nodes_dict:\n",
    "            nodes_dict[node_id] = {\n",
    "                \"id\": node_id,\n",
    "                \"properties\": row.to_dict(),\n",
    "            }\n",
    "    return list(nodes_dict.values())\n",
    "\n",
    "\n",
    "# converts the relationships dataframe to a list of dicts for yfiles-jupyter-graphs\n",
    "def convert_relationships_to_dicts(df):\n",
    "    \"\"\"Convert the relationships dataframe to a list of dicts for yfiles-jupyter-graphs.\"\"\"\n",
    "    relationships = []\n",
    "    for _, row in df.iterrows():\n",
    "        # Create a dictionary for each row\n",
    "        relationships.append({\n",
    "            \"start\": row[\"source\"],\n",
    "            \"end\": row[\"target\"],\n",
    "            \"properties\": row.to_dict(),\n",
    "        })\n",
    "    return relationships\n",
    "\n",
    "\n",
    "w = GraphWidget()\n",
    "w.directed = True\n",
    "w.nodes = convert_entities_to_dicts(entity_df)\n",
    "w.edges = convert_relationships_to_dicts(relationship_df)"
   ]
  },
  {
   "cell_type": "markdown",
   "metadata": {},
   "source": [
    "## Configure data-driven visualization\n",
    "\n",
    "The additional properties can be used to configure the visualization for different use cases."
   ]
  },
  {
   "cell_type": "code",
   "execution_count": 36,
   "metadata": {},
   "outputs": [],
   "source": [
    "# show title on the node\n",
    "w.node_label_mapping = \"title\"\n",
    "\n",
    "\n",
    "# map community to a color\n",
    "def community_to_color(community):\n",
    "    \"\"\"Map a community to a color.\"\"\"\n",
    "    colors = [\n",
    "        \"crimson\",\n",
    "        \"darkorange\",\n",
    "        \"indigo\",\n",
    "        \"cornflowerblue\",\n",
    "        \"cyan\",\n",
    "        \"teal\",\n",
    "        \"green\",\n",
    "    ]\n",
    "    return (\n",
    "        colors[int(community) % len(colors)] if community is not None else \"lightgray\"\n",
    "    )\n",
    "\n",
    "\n",
    "def edge_to_source_community(edge):\n",
    "    \"\"\"Get the community of the source node of an edge.\"\"\"\n",
    "    source_node = next(\n",
    "        (entry for entry in w.nodes if entry[\"properties\"][\"title\"] == edge[\"start\"]),\n",
    "        None,\n",
    "    )\n",
    "    source_node_community = source_node[\"properties\"][\"community\"]\n",
    "    return source_node_community if source_node_community is not None else None\n",
    "\n",
    "\n",
    "w.node_color_mapping = lambda node: community_to_color(node[\"properties\"][\"community\"])\n",
    "w.edge_color_mapping = lambda edge: community_to_color(edge_to_source_community(edge))\n",
    "# map size data to a reasonable factor\n",
    "w.node_scale_factor_mapping = lambda node: 0.5 + node[\"properties\"][\"size\"] * 1.5 / 20\n",
    "# use weight for edge thickness\n",
    "w.edge_thickness_factor_mapping = \"weight\""
   ]
  },
  {
   "cell_type": "markdown",
   "metadata": {},
   "source": [
    "## Automatic layouts\n",
    "\n",
    "The widget provides different automatic layouts that serve different purposes: `Circular`, `Hierarchic`, `Organic (interactiv or static)`, `Orthogonal`, `Radial`, `Tree`, `Geo-spatial`.\n",
    "\n",
    "For the knowledge graph, this sample uses the `Circular` layout, though `Hierarchic` or `Organic` are also suitable choices."
   ]
  },
  {
   "cell_type": "code",
   "execution_count": 37,
   "metadata": {},
   "outputs": [],
   "source": [
    "# Use the circular layout for this visualization. For larger graphs, the default organic layout is often preferable.\n",
    "w.organic_layout()"
   ]
  },
  {
   "cell_type": "markdown",
   "metadata": {},
   "source": [
    "## Display the graph"
   ]
  },
  {
   "cell_type": "code",
   "execution_count": 38,
   "metadata": {},
   "outputs": [
    {
     "data": {
      "application/vnd.jupyter.widget-view+json": {
       "model_id": "18d32c4435094638bf96872a34c0e9ba",
       "version_major": 2,
       "version_minor": 0
      },
      "text/plain": [
       "GraphWidget(layout=Layout(height='800px', width='100%'))"
      ]
     },
     "metadata": {},
     "output_type": "display_data"
    }
   ],
   "source": [
    "display(w)"
   ]
  },
  {
   "cell_type": "markdown",
   "metadata": {},
   "source": [
    "# Visualizing the result context of `graphrag` queries\n",
    "\n",
    "The result context of `graphrag` queries allow to inspect the context graph of the request. This data can similarly be visualized as graph with `yfiles-jupyter-graphs`.\n",
    "\n",
    "## Making the request\n",
    "\n",
    "The following performs Local Search"
   ]
  },
  {
   "cell_type": "code",
   "execution_count": 39,
   "metadata": {},
   "outputs": [
    {
     "name": "stderr",
     "output_type": "stream",
     "text": [
      "/usr/local/lib/python3.10/site-packages/graphrag/query/indexer_adapters.py:71: SettingWithCopyWarning: \n",
      "A value is trying to be set on a copy of a slice from a DataFrame.\n",
      "Try using .loc[row_indexer,col_indexer] = value instead\n",
      "\n",
      "See the caveats in the documentation: https://pandas.pydata.org/pandas-docs/stable/user_guide/indexing.html#returning-a-view-versus-a-copy\n",
      "  entity_df[\"community\"] = entity_df[\"community\"].fillna(-1)\n",
      "/usr/local/lib/python3.10/site-packages/graphrag/query/indexer_adapters.py:72: SettingWithCopyWarning: \n",
      "A value is trying to be set on a copy of a slice from a DataFrame.\n",
      "Try using .loc[row_indexer,col_indexer] = value instead\n",
      "\n",
      "See the caveats in the documentation: https://pandas.pydata.org/pandas-docs/stable/user_guide/indexing.html#returning-a-view-versus-a-copy\n",
      "  entity_df[\"community\"] = entity_df[\"community\"].astype(int)\n"
     ]
    }
   ],
   "source": [
    "# setup (see also ../../local_search.ipynb)\n",
    "from dotenv import load_dotenv, find_dotenv\n",
    "\n",
    "load_dotenv(find_dotenv())\n",
    "\n",
    "entities = read_indexer_entities(entity_df, entity_embedding_df, COMMUNITY_LEVEL)\n",
    "\n",
    "description_embedding_store = LanceDBVectorStore(\n",
    "    collection_name=\"entity_description_embeddings\",\n",
    ")\n",
    "description_embedding_store.connect(db_uri=LANCEDB_URI)\n",
    "entity_description_embeddings = store_entity_semantic_embeddings(\n",
    "    entities=entities, vectorstore=description_embedding_store\n",
    ")\n",
    "covariate_df = pd.read_parquet(f\"{INPUT_DIR}/{COVARIATE_TABLE}.parquet\")\n",
    "claims = read_indexer_covariates(covariate_df)\n",
    "covariates = {\"claims\": claims}\n",
    "report_df = pd.read_parquet(f\"{INPUT_DIR}/{COMMUNITY_REPORT_TABLE}.parquet\")\n",
    "reports = read_indexer_reports(report_df, entity_df, COMMUNITY_LEVEL)\n",
    "text_unit_df = pd.read_parquet(f\"{INPUT_DIR}/{TEXT_UNIT_TABLE}.parquet\")\n",
    "text_units = read_indexer_text_units(text_unit_df)\n",
    "\n",
    "api_key = os.getenv(\"GRAPHRAG_API_KEY\")\n",
    "llm_model = os.getenv(\"GRAPHRAG_LLM_MODEL\")\n",
    "llm_deployment = os.getenv(\"GRAPHRAG_LLM_DEPLOYMENT\")\n",
    "embedding_model = os.getenv(\"GRAPHRAG_EMBEDDING_MODEL\")\n",
    "embedding_deployment = os.getenv(\"GRAPHRAG_EMBEDDING_DEPLOYMENT\")\n",
    "api_base = os.getenv(\"GRAPHRAG_API_BASE\")\n",
    "api_version = os.getenv(\"GRAPHRAG_API_VERSION\")\n",
    "\n",
    "llm = ChatOpenAI(\n",
    "    api_key=api_key,\n",
    "    model=llm_model,\n",
    "    deployment_name=llm_deployment,\n",
    "    api_version=api_version,\n",
    "    api_type=OpenaiApiType.AzureOpenAI,  # OpenaiApiType.OpenAI or OpenaiApiType.AzureOpenAI\n",
    "    api_base=api_base,\n",
    "    max_retries=20,\n",
    ")\n",
    "\n",
    "token_encoder = tiktoken.get_encoding(\"cl100k_base\")\n",
    "\n",
    "text_embedder = OpenAIEmbedding(\n",
    "    api_key=api_key,\n",
    "    api_base=api_base,\n",
    "    api_version=api_version,\n",
    "    api_type=OpenaiApiType.AzureOpenAI,\n",
    "    model=embedding_model,\n",
    "    deployment_name=embedding_deployment,\n",
    "    max_retries=20,\n",
    ")\n",
    "\n",
    "context_builder = LocalSearchMixedContext(\n",
    "    community_reports=reports,\n",
    "    text_units=text_units,\n",
    "    entities=entities,\n",
    "    relationships=relationships,\n",
    "    covariates=covariates,\n",
    "    entity_text_embeddings=description_embedding_store,\n",
    "    embedding_vectorstore_key=EntityVectorStoreKey.ID,  # if the vectorstore uses entity title as ids, set this to EntityVectorStoreKey.TITLE\n",
    "    text_embedder=text_embedder,\n",
    "    token_encoder=token_encoder,\n",
    ")\n",
    "\n",
    "local_context_params = {\n",
    "    \"text_unit_prop\": 0.5,\n",
    "    \"community_prop\": 0.1,\n",
    "    \"conversation_history_max_turns\": 5,\n",
    "    \"conversation_history_user_turns_only\": True,\n",
    "    \"top_k_mapped_entities\": 10,\n",
    "    \"top_k_relationships\": 10,\n",
    "    \"include_entity_rank\": True,\n",
    "    \"include_relationship_weight\": True,\n",
    "    \"include_community_rank\": False,\n",
    "    \"return_candidate_context\": False,\n",
    "    \"embedding_vectorstore_key\": EntityVectorStoreKey.ID,  # set this to EntityVectorStoreKey.TITLE if the vectorstore uses entity title as ids\n",
    "    \"max_tokens\": 12_000,  # change this based on the token limit you have on your model (if you are using a model with 8k limit, a good setting could be 5000)\n",
    "}\n",
    "\n",
    "llm_params = {\n",
    "    \"max_tokens\": 2_000,  # change this based on the token limit you have on your model (if you are using a model with 8k limit, a good setting could be 1000=1500)\n",
    "    \"temperature\": 0.0,\n",
    "}\n",
    "\n",
    "search_engine = LocalSearch(\n",
    "    llm=llm,\n",
    "    context_builder=context_builder,\n",
    "    token_encoder=token_encoder,\n",
    "    llm_params=llm_params,\n",
    "    context_builder_params=local_context_params,\n",
    "    response_type=\"multiple paragraphs\",  # free form text describing the response type and format, can be anything, e.g. prioritized list, single paragraph, multiple paragraphs, multiple-page report\n",
    ")"
   ]
  },
  {
   "cell_type": "markdown",
   "metadata": {},
   "source": [
    "## Run local search on sample queries"
   ]
  },
  {
   "cell_type": "code",
   "execution_count": 40,
   "metadata": {},
   "outputs": [
    {
     "name": "stdout",
     "output_type": "stream",
     "text": [
      "# Scrooge: A Character Study\n",
      "\n",
      "## Introduction\n",
      "\n",
      "Ebenezer Scrooge is the central character in the narrative, known for his initial miserly and cynical disposition towards Christmas and life in general. His journey from a cold-hearted miser to a warm, generous individual is a pivotal element of the story, showcasing themes of redemption, transformation, and the true spirit of Christmas.\n",
      "\n",
      "## Scrooge's Initial Cynicism\n",
      "\n",
      "At the beginning of the narrative, Scrooge is depicted as a miserly and uncharitable man who detests Christmas, often referring to it as a \"humbug.\" His disdain for the holiday is deeply rooted in his past experiences and personal reflections, many of which are centered around Christmas. This negative outlook is evident in his interactions with others, including his refusal to donate to the poor and his harsh treatment of his clerk, Bob Cratchit [Data: Relationships (158); Sources (3)].\n",
      "\n",
      "## Transformation Through Supernatural Encounters\n",
      "\n",
      "Scrooge's transformation begins with a series of supernatural encounters on Christmas Eve. He is visited by the Ghosts of Christmas Past, Present, and Yet to Come, each of whom provides him with profound insights into his life and the impact of his actions on others. The Ghost of Christmas Present, in particular, plays a significant role in embodying the spirit of the holiday, spreading mirth and joy, and helping Scrooge reflect on the true meaning of Christmas [Data: Relationships (82, 273); Sources (15, 16)].\n",
      "\n",
      "## The Influence of Key Characters\n",
      "\n",
      "Several characters influence Scrooge's transformation. His nephew, Fred, maintains a positive view of Christmas and consistently invites Scrooge to join in the celebrations, despite being rebuffed. Fred's unwavering belief in the goodness of Christmas serves as a catalyst for Scrooge's eventual change [Data: Relationships (76, 257)]. Additionally, the Cratchit family, particularly Tiny Tim, exemplifies the themes of kindness and familial bonds, further highlighting the contrast between Scrooge's initial cynicism and the warmth of the Christmas spirit [Data: Relationships (44, 267, 113, 264, 265, 266)].\n",
      "\n",
      "## Scrooge's Redemption\n",
      "\n",
      "By the end of his journey, Scrooge undergoes a significant transformation. He learns to \"keep Christmas well\" and becomes a generous and kind-hearted individual. This change is marked by his newfound willingness to help those in need, as seen in his surprising generosity towards the gentleman collecting donations for the poor [Data: Relationships (163)]. Scrooge's redemption is a testament to the power of reflection, compassion, and the communal spirit of Christmas [Data: Relationships (158, 259)].\n",
      "\n",
      "## Conclusion\n",
      "\n",
      "Scrooge's character arc from a miserly cynic to a benevolent figure embodies the central themes of the narrative. His journey highlights the importance of compassion, community, and the transformative power of the Christmas spirit. Through his interactions with various characters and supernatural entities, Scrooge learns valuable lessons that ultimately lead to his redemption and a renewed appreciation for life and the festive season.\n"
     ]
    }
   ],
   "source": [
    "result = await search_engine.asearch(\"Tell me about Scrooge?\")\n",
    "print(result.response)"
   ]
  },
  {
   "cell_type": "markdown",
   "metadata": {},
   "source": [
    "## Inspecting the context data used to generate the response"
   ]
  },
  {
   "cell_type": "code",
   "execution_count": 41,
   "metadata": {},
   "outputs": [
    {
     "data": {
      "text/html": [
       "<div>\n",
       "<style scoped>\n",
       "    .dataframe tbody tr th:only-of-type {\n",
       "        vertical-align: middle;\n",
       "    }\n",
       "\n",
       "    .dataframe tbody tr th {\n",
       "        vertical-align: top;\n",
       "    }\n",
       "\n",
       "    .dataframe thead th {\n",
       "        text-align: right;\n",
       "    }\n",
       "</style>\n",
       "<table border=\"1\" class=\"dataframe\">\n",
       "  <thead>\n",
       "    <tr style=\"text-align: right;\">\n",
       "      <th></th>\n",
       "      <th>id</th>\n",
       "      <th>entity</th>\n",
       "      <th>description</th>\n",
       "      <th>number of relationships</th>\n",
       "      <th>in_context</th>\n",
       "    </tr>\n",
       "  </thead>\n",
       "  <tbody>\n",
       "    <tr>\n",
       "      <th>0</th>\n",
       "      <td>176</td>\n",
       "      <td>GROCER</td>\n",
       "      <td></td>\n",
       "      <td>1</td>\n",
       "      <td>True</td>\n",
       "    </tr>\n",
       "    <tr>\n",
       "      <th>1</th>\n",
       "      <td>170</td>\n",
       "      <td>FRUITERER'S</td>\n",
       "      <td>The Fruiterer's is a shop that is radiant with...</td>\n",
       "      <td>1</td>\n",
       "      <td>True</td>\n",
       "    </tr>\n",
       "    <tr>\n",
       "      <th>2</th>\n",
       "      <td>75</td>\n",
       "      <td>POULTERERS' AND GROCERS' TRADES</td>\n",
       "      <td>Shops that are part of a splendid joke and a g...</td>\n",
       "      <td>1</td>\n",
       "      <td>True</td>\n",
       "    </tr>\n",
       "    <tr>\n",
       "      <th>3</th>\n",
       "      <td>163</td>\n",
       "      <td>PLENTY'S HORN</td>\n",
       "      <td>Plenty's Horn is a symbolic reference to abund...</td>\n",
       "      <td>1</td>\n",
       "      <td>True</td>\n",
       "    </tr>\n",
       "    <tr>\n",
       "      <th>4</th>\n",
       "      <td>87</td>\n",
       "      <td>APOSTLES</td>\n",
       "      <td>Figures depicted on the Dutch tiles in Scrooge...</td>\n",
       "      <td>0</td>\n",
       "      <td>True</td>\n",
       "    </tr>\n",
       "  </tbody>\n",
       "</table>\n",
       "</div>"
      ],
      "text/plain": [
       "    id                           entity  \\\n",
       "0  176                           GROCER   \n",
       "1  170                      FRUITERER'S   \n",
       "2   75  POULTERERS' AND GROCERS' TRADES   \n",
       "3  163                    PLENTY'S HORN   \n",
       "4   87                         APOSTLES   \n",
       "\n",
       "                                         description number of relationships  \\\n",
       "0                                                                          1   \n",
       "1  The Fruiterer's is a shop that is radiant with...                       1   \n",
       "2  Shops that are part of a splendid joke and a g...                       1   \n",
       "3  Plenty's Horn is a symbolic reference to abund...                       1   \n",
       "4  Figures depicted on the Dutch tiles in Scrooge...                       0   \n",
       "\n",
       "   in_context  \n",
       "0        True  \n",
       "1        True  \n",
       "2        True  \n",
       "3        True  \n",
       "4        True  "
      ]
     },
     "execution_count": 41,
     "metadata": {},
     "output_type": "execute_result"
    }
   ],
   "source": [
    "result.context_data[\"entities\"].head()"
   ]
  },
  {
   "cell_type": "code",
   "execution_count": 42,
   "metadata": {},
   "outputs": [
    {
     "data": {
      "text/html": [
       "<div>\n",
       "<style scoped>\n",
       "    .dataframe tbody tr th:only-of-type {\n",
       "        vertical-align: middle;\n",
       "    }\n",
       "\n",
       "    .dataframe tbody tr th {\n",
       "        vertical-align: top;\n",
       "    }\n",
       "\n",
       "    .dataframe thead th {\n",
       "        text-align: right;\n",
       "    }\n",
       "</style>\n",
       "<table border=\"1\" class=\"dataframe\">\n",
       "  <thead>\n",
       "    <tr style=\"text-align: right;\">\n",
       "      <th></th>\n",
       "      <th>id</th>\n",
       "      <th>source</th>\n",
       "      <th>target</th>\n",
       "      <th>description</th>\n",
       "      <th>weight</th>\n",
       "      <th>rank</th>\n",
       "      <th>links</th>\n",
       "      <th>in_context</th>\n",
       "    </tr>\n",
       "  </thead>\n",
       "  <tbody>\n",
       "    <tr>\n",
       "      <th>0</th>\n",
       "      <td>163</td>\n",
       "      <td>SCROOGE</td>\n",
       "      <td>GENTLEMAN</td>\n",
       "      <td>Scrooge and the gentleman have a notable inter...</td>\n",
       "      <td>2.0</td>\n",
       "      <td>118</td>\n",
       "      <td>3</td>\n",
       "      <td>True</td>\n",
       "    </tr>\n",
       "    <tr>\n",
       "      <th>1</th>\n",
       "      <td>223</td>\n",
       "      <td>SCROOGE</td>\n",
       "      <td>INFAMOUS RESORT</td>\n",
       "      <td>Scrooge visits an infamous part of the town</td>\n",
       "      <td>1.0</td>\n",
       "      <td>118</td>\n",
       "      <td>3</td>\n",
       "      <td>True</td>\n",
       "    </tr>\n",
       "    <tr>\n",
       "      <th>2</th>\n",
       "      <td>205</td>\n",
       "      <td>SCROOGE</td>\n",
       "      <td>FOUNDER OF THE FEAST</td>\n",
       "      <td>Scrooge is referred to as the Founder of the F...</td>\n",
       "      <td>1.0</td>\n",
       "      <td>117</td>\n",
       "      <td>3</td>\n",
       "      <td>True</td>\n",
       "    </tr>\n",
       "    <tr>\n",
       "      <th>3</th>\n",
       "      <td>261</td>\n",
       "      <td>CHRISTMAS</td>\n",
       "      <td>GROCER'S</td>\n",
       "      <td>The Grocer's is nearly closed but filled with ...</td>\n",
       "      <td>1.0</td>\n",
       "      <td>32</td>\n",
       "      <td>2</td>\n",
       "      <td>True</td>\n",
       "    </tr>\n",
       "    <tr>\n",
       "      <th>4</th>\n",
       "      <td>263</td>\n",
       "      <td>CHRISTMAS</td>\n",
       "      <td>FRUITERER'S</td>\n",
       "      <td>The Fruiterer's is radiant with fruits and oth...</td>\n",
       "      <td>1.0</td>\n",
       "      <td>32</td>\n",
       "      <td>2</td>\n",
       "      <td>True</td>\n",
       "    </tr>\n",
       "  </tbody>\n",
       "</table>\n",
       "</div>"
      ],
      "text/plain": [
       "    id     source                target  \\\n",
       "0  163    SCROOGE             GENTLEMAN   \n",
       "1  223    SCROOGE       INFAMOUS RESORT   \n",
       "2  205    SCROOGE  FOUNDER OF THE FEAST   \n",
       "3  261  CHRISTMAS              GROCER'S   \n",
       "4  263  CHRISTMAS           FRUITERER'S   \n",
       "\n",
       "                                         description weight rank links  \\\n",
       "0  Scrooge and the gentleman have a notable inter...    2.0  118     3   \n",
       "1        Scrooge visits an infamous part of the town    1.0  118     3   \n",
       "2  Scrooge is referred to as the Founder of the F...    1.0  117     3   \n",
       "3  The Grocer's is nearly closed but filled with ...    1.0   32     2   \n",
       "4  The Fruiterer's is radiant with fruits and oth...    1.0   32     2   \n",
       "\n",
       "   in_context  \n",
       "0        True  \n",
       "1        True  \n",
       "2        True  \n",
       "3        True  \n",
       "4        True  "
      ]
     },
     "execution_count": 42,
     "metadata": {},
     "output_type": "execute_result"
    }
   ],
   "source": [
    "result.context_data[\"relationships\"].head()"
   ]
  },
  {
   "cell_type": "code",
   "execution_count": 43,
   "metadata": {},
   "outputs": [
    {
     "name": "stderr",
     "output_type": "stream",
     "text": [
      "Warning: No community records added when building community context.\n"
     ]
    },
    {
     "name": "stdout",
     "output_type": "stream",
     "text": [
      "### Data Overview\n",
      "\n",
      "I have access to several datasets related to \"A Christmas Carol\" and Project Gutenberg. Below is a summary of the available data:\n",
      "\n",
      "#### Entities\n",
      "This dataset includes various characters and entities from \"A Christmas Carol\" and Project Gutenberg. Each entity has a unique ID, a description, and the number of relationships it has with other entities.\n",
      "\n",
      "- **Characters from \"A Christmas Carol\"**: Includes main characters like Ebenezer Scrooge, Bob Cratchit, and the Three Spirits, as well as minor characters like the Charwoman and Peter.\n",
      "- **Project Gutenberg Entities**: Includes Project Gutenberg itself, its trademark, license, and key figures like Michael S. Hart and Suzanne Shell.\n",
      "\n",
      "#### Relationships\n",
      "This dataset outlines the connections between different entities. Each relationship has a source, target, description, weight, rank, and links.\n",
      "\n",
      "- **Character Interactions**: Details how characters in \"A Christmas Carol\" interact with each other, such as Scrooge's interactions with the Three Spirits and Marley's Ghost.\n",
      "- **Project Gutenberg Relationships**: Describes the connections between Project Gutenberg and its various components, like its license and trademark.\n",
      "\n",
      "#### Claims\n",
      "This dataset includes specific claims related to entities, such as the roles of characters in \"A Christmas Carol\" and contributions to Project Gutenberg.\n",
      "\n",
      "- **Character Claims**: Includes claims about character actions and roles, such as Marley's Ghost warning Scrooge.\n",
      "- **Project Gutenberg Claims**: Includes claims about contributions to Project Gutenberg, like Suzanne Shell's role in producing the eBook of \"A Christmas Carol.\"\n",
      "\n",
      "#### Sources\n",
      "This dataset provides textual sources that support the information in the other datasets. These sources include excerpts from \"A Christmas Carol\" and details about Project Gutenberg's operations and licenses.\n",
      "\n",
      "### Example Data Points\n",
      "\n",
      "#### Entities\n",
      "- **Ebenezer Scrooge**: The main character in \"A Christmas Carol,\" known for his miserly ways and eventual redemption [Data: Entities (12)].\n",
      "- **Project Gutenberg**: A digital library offering free access to electronic works, primarily in the public domain [Data: Entities (0)].\n",
      "\n",
      "#### Relationships\n",
      "- **Scrooge and the Three Spirits**: The Three Spirits visit Scrooge to offer him a chance to change his fate [Data: Relationships (63, 175, 306, +more)].\n",
      "- **Project Gutenberg and its License**: The Project Gutenberg License governs the use, distribution, and modification of its works [Data: Relationships (4, 390)].\n",
      "\n",
      "#### Claims\n",
      "- **Suzanne Shell**: One of the producers of the Project Gutenberg eBook of \"A Christmas Carol,\" released on December 24, 2007 [Data: Claims (5)].\n",
      "- **Marley's Ghost**: Appeared to Scrooge to warn him about the consequences of his actions and the impending visits of three spirits [Data: Claims (25)].\n",
      "\n",
      "### Conclusion\n",
      "\n",
      "The data I have encompasses a wide range of information about \"A Christmas Carol\" and Project Gutenberg, including detailed descriptions of characters, their interactions, and the operational aspects of Project Gutenberg. This data can be used to answer specific questions about these topics, providing a comprehensive understanding of both the literary work and the digital library.\n"
     ]
    }
   ],
   "source": [
    "result = await search_engine.asearch(\"what is the data you have\")\n",
    "print(result.response)"
   ]
  },
  {
   "cell_type": "code",
   "execution_count": 44,
   "metadata": {},
   "outputs": [
    {
     "name": "stderr",
     "output_type": "stream",
     "text": [
      "Warning: No community records added when building community context.\n"
     ]
    },
    {
     "name": "stdout",
     "output_type": "stream",
     "text": [
      "The main character of \"A Christmas Carol\" is Ebenezer Scrooge. Scrooge is a miserly and cold-hearted old man who undergoes a profound transformation over the course of the story. His journey from a life of greed and isolation to one of generosity and warmth is central to the narrative.\n",
      "\n",
      "### Scrooge's Relationships and Interactions\n",
      "\n",
      "Scrooge's interactions with other characters highlight his initial disdain for Christmas and human connection. For instance, his nephew Fred consistently invites him to Christmas dinner, embodying the spirit of generosity and familial love, despite Scrooge's initial rejections [Data: Relationships (74, 155); Entities (16, 52)]. Scrooge's relationship with his sister Fan, who brings him home for Christmas, also underscores the familial bonds that he has neglected [Data: Relationships (129); Entities (30)].\n",
      "\n",
      "### Transformation on Christmas Day\n",
      "\n",
      "The pivotal moment in Scrooge's transformation occurs on Christmas Day, following his encounters with the spirits. This day marks a significant turning point for him, as he begins to observe the events and interactions around him with a renewed perspective [Data: Relationships (203); Entities (172)]. His change in demeanor becomes evident as he becomes the subject of a toast, symbolizing the positive shift in how others perceive him [Data: Relationships (203)].\n",
      "\n",
      "### Conclusion\n",
      "\n",
      "In summary, Ebenezer Scrooge is the main character of \"A Christmas Carol,\" and his journey from a miserly, isolated man to a generous, warm-hearted individual is the central focus of the story. His interactions with other characters and the transformative events of Christmas Day are crucial elements that drive this narrative.\n"
     ]
    }
   ],
   "source": [
    "result = await search_engine.asearch(\"who is the main character of this story?\")\n",
    "print(result.response)"
   ]
  },
  {
   "cell_type": "code",
   "execution_count": 45,
   "metadata": {},
   "outputs": [
    {
     "name": "stdout",
     "output_type": "stream",
     "text": [
      "# Connections of the Main Character in \"A Christmas Carol\"\n",
      "\n",
      "## Ebenezer Scrooge's Relationships\n",
      "\n",
      "Ebenezer Scrooge, the main character in \"A Christmas Carol,\" is intricately connected to various other characters, each relationship highlighting different aspects of his personality and journey.\n",
      "\n",
      "### Scrooge and Fezziwig\n",
      "\n",
      "One of the most significant relationships in Scrooge's past is with Fezziwig, his former employer during his apprenticeship. Fezziwig is depicted as a jovial and benevolent figure who hosts lively Christmas Eve celebrations, contrasting sharply with Scrooge's later disdain for the holiday. This relationship is crucial in understanding Scrooge's initial exposure to the festive and generous spirit, which he later rejects [Data: Entities (37); Relationships (137, 139, 195, 326)].\n",
      "\n",
      "### Scrooge and Fred\n",
      "\n",
      "Fred, Scrooge's nephew, represents the warmth and familial love that Scrooge has distanced himself from. Despite Scrooge's unpleasant nature and his disdain for Christmas, Fred consistently invites him to dinner and tries to convince him of the goodness of the holiday. This relationship underscores the theme of familial bonds and the potential for reconciliation and transformation [Data: Entities (52); Relationships (74, 155, 258)].\n",
      "\n",
      "### Scrooge and Fan\n",
      "\n",
      "Fan, Scrooge's younger sister, plays a significant role in his early life. She is remembered for bringing Scrooge home for Christmas, indicating a close sibling bond. This relationship is a poignant reminder of the familial love that Scrooge once cherished but has since neglected [Data: Entities (30); Relationships (129, 57); Claims (32)].\n",
      "\n",
      "### Scrooge and Bob Cratchit\n",
      "\n",
      "Bob Cratchit, Scrooge's underpaid and overworked clerk, represents the harshness of Scrooge's business practices. Despite his difficult circumstances, Cratchit remains kind-hearted and even toasts to Scrooge as the \"Founder of the Feast\" during their modest Christmas celebration. This relationship highlights the contrast between Scrooge's miserly ways and the warmth and generosity of the Cratchit family [Data: Claims (188); Sources (32)].\n",
      "\n",
      "### Scrooge and the Ghosts\n",
      "\n",
      "Scrooge's interactions with the three spirits—The Ghost of Christmas Past, The Ghost of Christmas Present, and The Ghost of Christmas Yet to Come—are pivotal in his transformation. These supernatural visits force Scrooge to confront his past, present, and future, ultimately leading to his redemption. Each ghost reveals different facets of Scrooge's life and the impact of his actions on others [Data: Sources (32, 37)].\n",
      "\n",
      "### Scrooge and Dick Wilkins\n",
      "\n",
      "Dick Wilkins, another former apprentice of Fezziwig, shares a close bond with both Fezziwig and Scrooge. His participation in the Christmas Eve celebration further emphasizes the warm and familial atmosphere fostered by Fezziwig. This relationship is crucial in understanding the dynamics of the community and the impact of Fezziwig's generosity [Data: Entities (23); Relationships (95, 97, 96)].\n",
      "\n",
      "## Conclusion\n",
      "\n",
      "Scrooge's connections to other characters in \"A Christmas Carol\" are essential in understanding his journey from a miserly, isolated man to a redeemed, generous individual. Each relationship, whether familial, professional, or supernatural, plays a critical role in highlighting different aspects of his character and the potential for transformation. Through these connections, the story emphasizes themes of generosity, familial love, and redemption.\n"
     ]
    }
   ],
   "source": [
    "result = await search_engine.asearch(\"How is the main character connected to other characters in the story?\")\n",
    "print(result.response)"
   ]
  },
  {
   "cell_type": "code",
   "execution_count": 52,
   "metadata": {},
   "outputs": [
    {
     "name": "stderr",
     "output_type": "stream",
     "text": [
      "Warning: No community records added when building community context.\n"
     ]
    },
    {
     "name": "stdout",
     "output_type": "stream",
     "text": [
      "The concept of someone becoming richer at the expense of someone else becoming poorer is often discussed in economic and social contexts. In the data provided, there is a specific instance that illustrates this dynamic.\n",
      "\n",
      "### The Case of the Woman and the Deceased Man\n",
      "\n",
      "In the provided data, there is a claim involving a woman who admitted to stealing bed-curtains, blankets, and a shirt from a deceased man's room [Data: Claims (77)]. This act of theft directly benefits the woman at the expense of the deceased man's estate, illustrating a situation where one party becomes richer (in terms of material possessions) by making another party poorer.\n",
      "\n",
      "### Relationships and Interactions\n",
      "\n",
      "The woman has interactions with two other entities, Joe and an unhappy man. Joe appraises and buys items brought by the woman, which likely includes the stolen goods [Data: Relationships (93)]. This transaction further enriches Joe, who profits from reselling the items, while the original owner (the deceased man) has been deprived of his possessions. Additionally, the woman took items from the unhappy man's belongings, further indicating a pattern of benefiting at the expense of others [Data: Relationships (385)].\n",
      "\n",
      "### Broader Implications\n",
      "\n",
      "While the data provides a specific example, it reflects a broader theme often seen in literature and real life, where the actions of one individual or group can lead to the detriment of another. This dynamic is not limited to theft but can also be seen in various economic and social interactions where resources are finite and competition for them can lead to unequal outcomes.\n",
      "\n",
      "### Conclusion\n",
      "\n",
      "In summary, the data supports the notion that someone can become richer by making someone else poorer, as illustrated by the woman's actions and their consequences. This example highlights the complex interplay of relationships and transactions that can lead to such outcomes [Data: Claims (77); Relationships (93, 385)].\n",
      "\n",
      "If you have any more specific questions or need further details, feel free to ask!\n"
     ]
    }
   ],
   "source": [
    "result = await search_engine.asearch(\"Did someone become richer by someone becoming poorer?\")\n",
    "print(result.response)"
   ]
  },
  {
   "cell_type": "markdown",
   "metadata": {},
   "source": [
    "## Visualizing the result context as graph"
   ]
  },
  {
   "cell_type": "code",
   "execution_count": 46,
   "metadata": {},
   "outputs": [],
   "source": [
    "\"\"\"\n",
    "Helper function to visualize the result context with `yfiles-jupyter-graphs`.\n",
    "\n",
    "The dataframes are converted into supported nodes and relationships lists and then passed to yfiles-jupyter-graphs.\n",
    "Additionally, some values are mapped to visualization properties.\n",
    "\"\"\"\n",
    "\n",
    "\n",
    "def show_graph(result):\n",
    "    \"\"\"Visualize the result context with yfiles-jupyter-graphs.\"\"\"\n",
    "    from yfiles_jupyter_graphs import GraphWidget\n",
    "\n",
    "    if (\n",
    "        \"entities\" not in result.context_data\n",
    "        or \"relationships\" not in result.context_data\n",
    "    ):\n",
    "        msg = \"The passed results do not contain 'entities' or 'relationships'\"\n",
    "        raise ValueError(msg)\n",
    "\n",
    "    # converts the entities dataframe to a list of dicts for yfiles-jupyter-graphs\n",
    "    def convert_entities_to_dicts(df):\n",
    "        \"\"\"Convert the entities dataframe to a list of dicts for yfiles-jupyter-graphs.\"\"\"\n",
    "        nodes_dict = {}\n",
    "        for _, row in df.iterrows():\n",
    "            # Create a dictionary for each row and collect unique nodes\n",
    "            node_id = row[\"entity\"]\n",
    "            if node_id not in nodes_dict:\n",
    "                nodes_dict[node_id] = {\n",
    "                    \"id\": node_id,\n",
    "                    \"properties\": row.to_dict(),\n",
    "                }\n",
    "        return list(nodes_dict.values())\n",
    "\n",
    "    # converts the relationships dataframe to a list of dicts for yfiles-jupyter-graphs\n",
    "    def convert_relationships_to_dicts(df):\n",
    "        \"\"\"Convert the relationships dataframe to a list of dicts for yfiles-jupyter-graphs.\"\"\"\n",
    "        relationships = []\n",
    "        for _, row in df.iterrows():\n",
    "            # Create a dictionary for each row\n",
    "            relationships.append({\n",
    "                \"start\": row[\"source\"],\n",
    "                \"end\": row[\"target\"],\n",
    "                \"properties\": row.to_dict(),\n",
    "            })\n",
    "        return relationships\n",
    "\n",
    "    w = GraphWidget()\n",
    "    # use the converted data to visualize the graph\n",
    "    w.nodes = convert_entities_to_dicts(result.context_data[\"entities\"])\n",
    "    w.edges = convert_relationships_to_dicts(result.context_data[\"relationships\"])\n",
    "    w.directed = True\n",
    "    # show title on the node\n",
    "    w.node_label_mapping = \"entity\"\n",
    "    # use weight for edge thickness\n",
    "    w.edge_thickness_factor_mapping = \"weight\"\n",
    "    display(w)\n",
    "\n"
   ]
  },
  {
   "cell_type": "code",
   "execution_count": 47,
   "metadata": {},
   "outputs": [],
   "source": [
    "# show_graph(result)"
   ]
  },
  {
   "cell_type": "code",
   "execution_count": null,
   "metadata": {},
   "outputs": [],
   "source": []
  }
 ],
 "metadata": {
  "kernelspec": {
   "display_name": "Python 3 (ipykernel)",
   "language": "python",
   "name": "python3"
  },
  "language_info": {
   "codemirror_mode": {
    "name": "ipython",
    "version": 3
   },
   "file_extension": ".py",
   "mimetype": "text/x-python",
   "name": "python",
   "nbconvert_exporter": "python",
   "pygments_lexer": "ipython3",
   "version": "3.10.14"
  }
 },
 "nbformat": 4,
 "nbformat_minor": 4
}
